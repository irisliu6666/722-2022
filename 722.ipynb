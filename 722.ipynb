{
 "cells": [
  {
   "cell_type": "code",
   "execution_count": 4,
   "id": "554c7f3a",
   "metadata": {},
   "outputs": [
    {
     "ename": "AttributeError",
     "evalue": "module 'matplotlib' has no attribute 'rcParams'",
     "output_type": "error",
     "traceback": [
      "\u001B[0;31m---------------------------------------------------------------------------\u001B[0m",
      "\u001B[0;31mAttributeError\u001B[0m                            Traceback (most recent call last)",
      "Input \u001B[0;32mIn [4]\u001B[0m, in \u001B[0;36m<cell line: 5>\u001B[0;34m()\u001B[0m\n\u001B[1;32m      3\u001B[0m \u001B[38;5;28;01mimport\u001B[39;00m \u001B[38;5;21;01mpandas\u001B[39;00m \u001B[38;5;28;01mas\u001B[39;00m \u001B[38;5;21;01mpd\u001B[39;00m\n\u001B[1;32m      4\u001B[0m \u001B[38;5;28;01mimport\u001B[39;00m \u001B[38;5;21;01mnumpy\u001B[39;00m \u001B[38;5;28;01mas\u001B[39;00m \u001B[38;5;21;01mnp\u001B[39;00m\n\u001B[0;32m----> 5\u001B[0m \u001B[38;5;28;01mimport\u001B[39;00m \u001B[38;5;21;01mseaborn\u001B[39;00m \u001B[38;5;28;01mas\u001B[39;00m \u001B[38;5;21;01msns\u001B[39;00m\n\u001B[1;32m      6\u001B[0m \u001B[38;5;28;01mimport\u001B[39;00m \u001B[38;5;21;01mmatplotlib\u001B[39;00m\u001B[38;5;21;01m.\u001B[39;00m\u001B[38;5;21;01mpyplot\u001B[39;00m \u001B[38;5;28;01mas\u001B[39;00m \u001B[38;5;21;01mplt\u001B[39;00m\n\u001B[1;32m      7\u001B[0m \u001B[38;5;28;01mimport\u001B[39;00m \u001B[38;5;21;01mmatplotlib\u001B[39;00m\u001B[38;5;21;01m.\u001B[39;00m\u001B[38;5;21;01mticker\u001B[39;00m \u001B[38;5;28;01mas\u001B[39;00m \u001B[38;5;21;01mmtick\u001B[39;00m\n",
      "File \u001B[0;32m~/.conda/envs/Desktop/lib/python3.10/site-packages/seaborn/__init__.py:2\u001B[0m, in \u001B[0;36m<module>\u001B[0;34m\u001B[0m\n\u001B[1;32m      1\u001B[0m \u001B[38;5;66;03m# Import seaborn objects\u001B[39;00m\n\u001B[0;32m----> 2\u001B[0m \u001B[38;5;28;01mfrom\u001B[39;00m \u001B[38;5;21;01m.\u001B[39;00m\u001B[38;5;21;01mrcmod\u001B[39;00m \u001B[38;5;28;01mimport\u001B[39;00m \u001B[38;5;241m*\u001B[39m  \u001B[38;5;66;03m# noqa: F401,F403\u001B[39;00m\n\u001B[1;32m      3\u001B[0m \u001B[38;5;28;01mfrom\u001B[39;00m \u001B[38;5;21;01m.\u001B[39;00m\u001B[38;5;21;01mutils\u001B[39;00m \u001B[38;5;28;01mimport\u001B[39;00m \u001B[38;5;241m*\u001B[39m  \u001B[38;5;66;03m# noqa: F401,F403\u001B[39;00m\n\u001B[1;32m      4\u001B[0m \u001B[38;5;28;01mfrom\u001B[39;00m \u001B[38;5;21;01m.\u001B[39;00m\u001B[38;5;21;01mpalettes\u001B[39;00m \u001B[38;5;28;01mimport\u001B[39;00m \u001B[38;5;241m*\u001B[39m  \u001B[38;5;66;03m# noqa: F401,F403\u001B[39;00m\n",
      "File \u001B[0;32m~/.conda/envs/Desktop/lib/python3.10/site-packages/seaborn/rcmod.py:7\u001B[0m, in \u001B[0;36m<module>\u001B[0;34m\u001B[0m\n\u001B[1;32m      5\u001B[0m \u001B[38;5;28;01mimport\u001B[39;00m \u001B[38;5;21;01mmatplotlib\u001B[39;00m \u001B[38;5;28;01mas\u001B[39;00m \u001B[38;5;21;01mmpl\u001B[39;00m\n\u001B[1;32m      6\u001B[0m \u001B[38;5;28;01mfrom\u001B[39;00m \u001B[38;5;21;01mcycler\u001B[39;00m \u001B[38;5;28;01mimport\u001B[39;00m cycler\n\u001B[0;32m----> 7\u001B[0m \u001B[38;5;28;01mfrom\u001B[39;00m \u001B[38;5;21;01m.\u001B[39;00m \u001B[38;5;28;01mimport\u001B[39;00m palettes\n\u001B[1;32m     10\u001B[0m __all__ \u001B[38;5;241m=\u001B[39m [\u001B[38;5;124m\"\u001B[39m\u001B[38;5;124mset_theme\u001B[39m\u001B[38;5;124m\"\u001B[39m, \u001B[38;5;124m\"\u001B[39m\u001B[38;5;124mset\u001B[39m\u001B[38;5;124m\"\u001B[39m, \u001B[38;5;124m\"\u001B[39m\u001B[38;5;124mreset_defaults\u001B[39m\u001B[38;5;124m\"\u001B[39m, \u001B[38;5;124m\"\u001B[39m\u001B[38;5;124mreset_orig\u001B[39m\u001B[38;5;124m\"\u001B[39m,\n\u001B[1;32m     11\u001B[0m            \u001B[38;5;124m\"\u001B[39m\u001B[38;5;124maxes_style\u001B[39m\u001B[38;5;124m\"\u001B[39m, \u001B[38;5;124m\"\u001B[39m\u001B[38;5;124mset_style\u001B[39m\u001B[38;5;124m\"\u001B[39m, \u001B[38;5;124m\"\u001B[39m\u001B[38;5;124mplotting_context\u001B[39m\u001B[38;5;124m\"\u001B[39m, \u001B[38;5;124m\"\u001B[39m\u001B[38;5;124mset_context\u001B[39m\u001B[38;5;124m\"\u001B[39m,\n\u001B[1;32m     12\u001B[0m            \u001B[38;5;124m\"\u001B[39m\u001B[38;5;124mset_palette\u001B[39m\u001B[38;5;124m\"\u001B[39m]\n\u001B[1;32m     15\u001B[0m _style_keys \u001B[38;5;241m=\u001B[39m [\n\u001B[1;32m     16\u001B[0m \n\u001B[1;32m     17\u001B[0m     \u001B[38;5;124m\"\u001B[39m\u001B[38;5;124maxes.facecolor\u001B[39m\u001B[38;5;124m\"\u001B[39m,\n\u001B[0;32m   (...)\u001B[0m\n\u001B[1;32m     52\u001B[0m \n\u001B[1;32m     53\u001B[0m ]\n",
      "File \u001B[0;32m~/.conda/envs/Desktop/lib/python3.10/site-packages/seaborn/palettes.py:9\u001B[0m, in \u001B[0;36m<module>\u001B[0;34m\u001B[0m\n\u001B[1;32m      5\u001B[0m \u001B[38;5;28;01mimport\u001B[39;00m \u001B[38;5;21;01mmatplotlib\u001B[39;00m \u001B[38;5;28;01mas\u001B[39;00m \u001B[38;5;21;01mmpl\u001B[39;00m\n\u001B[1;32m      7\u001B[0m \u001B[38;5;28;01mfrom\u001B[39;00m \u001B[38;5;21;01m.\u001B[39;00m\u001B[38;5;21;01mexternal\u001B[39;00m \u001B[38;5;28;01mimport\u001B[39;00m husl\n\u001B[0;32m----> 9\u001B[0m \u001B[38;5;28;01mfrom\u001B[39;00m \u001B[38;5;21;01m.\u001B[39;00m\u001B[38;5;21;01mutils\u001B[39;00m \u001B[38;5;28;01mimport\u001B[39;00m desaturate, get_color_cycle\n\u001B[1;32m     10\u001B[0m \u001B[38;5;28;01mfrom\u001B[39;00m \u001B[38;5;21;01m.\u001B[39;00m\u001B[38;5;21;01mcolors\u001B[39;00m \u001B[38;5;28;01mimport\u001B[39;00m xkcd_rgb, crayons\n\u001B[1;32m     13\u001B[0m __all__ \u001B[38;5;241m=\u001B[39m [\u001B[38;5;124m\"\u001B[39m\u001B[38;5;124mcolor_palette\u001B[39m\u001B[38;5;124m\"\u001B[39m, \u001B[38;5;124m\"\u001B[39m\u001B[38;5;124mhls_palette\u001B[39m\u001B[38;5;124m\"\u001B[39m, \u001B[38;5;124m\"\u001B[39m\u001B[38;5;124mhusl_palette\u001B[39m\u001B[38;5;124m\"\u001B[39m, \u001B[38;5;124m\"\u001B[39m\u001B[38;5;124mmpl_palette\u001B[39m\u001B[38;5;124m\"\u001B[39m,\n\u001B[1;32m     14\u001B[0m            \u001B[38;5;124m\"\u001B[39m\u001B[38;5;124mdark_palette\u001B[39m\u001B[38;5;124m\"\u001B[39m, \u001B[38;5;124m\"\u001B[39m\u001B[38;5;124mlight_palette\u001B[39m\u001B[38;5;124m\"\u001B[39m, \u001B[38;5;124m\"\u001B[39m\u001B[38;5;124mdiverging_palette\u001B[39m\u001B[38;5;124m\"\u001B[39m,\n\u001B[1;32m     15\u001B[0m            \u001B[38;5;124m\"\u001B[39m\u001B[38;5;124mblend_palette\u001B[39m\u001B[38;5;124m\"\u001B[39m, \u001B[38;5;124m\"\u001B[39m\u001B[38;5;124mxkcd_palette\u001B[39m\u001B[38;5;124m\"\u001B[39m, \u001B[38;5;124m\"\u001B[39m\u001B[38;5;124mcrayon_palette\u001B[39m\u001B[38;5;124m\"\u001B[39m,\n\u001B[1;32m     16\u001B[0m            \u001B[38;5;124m\"\u001B[39m\u001B[38;5;124mcubehelix_palette\u001B[39m\u001B[38;5;124m\"\u001B[39m, \u001B[38;5;124m\"\u001B[39m\u001B[38;5;124mset_color_codes\u001B[39m\u001B[38;5;124m\"\u001B[39m]\n",
      "File \u001B[0;32m~/.conda/envs/Desktop/lib/python3.10/site-packages/seaborn/utils.py:14\u001B[0m, in \u001B[0;36m<module>\u001B[0;34m\u001B[0m\n\u001B[1;32m     12\u001B[0m \u001B[38;5;28;01mimport\u001B[39;00m \u001B[38;5;21;01mmatplotlib\u001B[39;00m \u001B[38;5;28;01mas\u001B[39;00m \u001B[38;5;21;01mmpl\u001B[39;00m\n\u001B[1;32m     13\u001B[0m \u001B[38;5;28;01mimport\u001B[39;00m \u001B[38;5;21;01mmatplotlib\u001B[39;00m\u001B[38;5;21;01m.\u001B[39;00m\u001B[38;5;21;01mcolors\u001B[39;00m \u001B[38;5;28;01mas\u001B[39;00m \u001B[38;5;21;01mmplcol\u001B[39;00m\n\u001B[0;32m---> 14\u001B[0m \u001B[38;5;28;01mimport\u001B[39;00m \u001B[38;5;21;01mmatplotlib\u001B[39;00m\u001B[38;5;21;01m.\u001B[39;00m\u001B[38;5;21;01mpyplot\u001B[39;00m \u001B[38;5;28;01mas\u001B[39;00m \u001B[38;5;21;01mplt\u001B[39;00m\n\u001B[1;32m     15\u001B[0m \u001B[38;5;28;01mfrom\u001B[39;00m \u001B[38;5;21;01mmatplotlib\u001B[39;00m\u001B[38;5;21;01m.\u001B[39;00m\u001B[38;5;21;01mcbook\u001B[39;00m \u001B[38;5;28;01mimport\u001B[39;00m normalize_kwargs\n\u001B[1;32m     18\u001B[0m __all__ \u001B[38;5;241m=\u001B[39m [\u001B[38;5;124m\"\u001B[39m\u001B[38;5;124mdesaturate\u001B[39m\u001B[38;5;124m\"\u001B[39m, \u001B[38;5;124m\"\u001B[39m\u001B[38;5;124msaturate\u001B[39m\u001B[38;5;124m\"\u001B[39m, \u001B[38;5;124m\"\u001B[39m\u001B[38;5;124mset_hls_values\u001B[39m\u001B[38;5;124m\"\u001B[39m, \u001B[38;5;124m\"\u001B[39m\u001B[38;5;124mmove_legend\u001B[39m\u001B[38;5;124m\"\u001B[39m,\n\u001B[1;32m     19\u001B[0m            \u001B[38;5;124m\"\u001B[39m\u001B[38;5;124mdespine\u001B[39m\u001B[38;5;124m\"\u001B[39m, \u001B[38;5;124m\"\u001B[39m\u001B[38;5;124mget_dataset_names\u001B[39m\u001B[38;5;124m\"\u001B[39m, \u001B[38;5;124m\"\u001B[39m\u001B[38;5;124mget_data_home\u001B[39m\u001B[38;5;124m\"\u001B[39m, \u001B[38;5;124m\"\u001B[39m\u001B[38;5;124mload_dataset\u001B[39m\u001B[38;5;124m\"\u001B[39m]\n",
      "File \u001B[0;32m~/.conda/envs/Desktop/lib/python3.10/site-packages/matplotlib/pyplot.py:49\u001B[0m, in \u001B[0;36m<module>\u001B[0;34m\u001B[0m\n\u001B[1;32m     47\u001B[0m \u001B[38;5;28;01mfrom\u001B[39;00m \u001B[38;5;21;01mcycler\u001B[39;00m \u001B[38;5;28;01mimport\u001B[39;00m cycler\n\u001B[1;32m     48\u001B[0m \u001B[38;5;28;01mimport\u001B[39;00m \u001B[38;5;21;01mmatplotlib\u001B[39;00m\n\u001B[0;32m---> 49\u001B[0m \u001B[38;5;28;01mimport\u001B[39;00m \u001B[38;5;21;01mmatplotlib\u001B[39;00m\u001B[38;5;21;01m.\u001B[39;00m\u001B[38;5;21;01mcolorbar\u001B[39;00m\n\u001B[1;32m     50\u001B[0m \u001B[38;5;28;01mimport\u001B[39;00m \u001B[38;5;21;01mmatplotlib\u001B[39;00m\u001B[38;5;21;01m.\u001B[39;00m\u001B[38;5;21;01mimage\u001B[39;00m\n\u001B[1;32m     51\u001B[0m \u001B[38;5;28;01mfrom\u001B[39;00m \u001B[38;5;21;01mmatplotlib\u001B[39;00m \u001B[38;5;28;01mimport\u001B[39;00m _api\n",
      "File \u001B[0;32m~/.conda/envs/Desktop/lib/python3.10/site-packages/matplotlib/colorbar.py:21\u001B[0m, in \u001B[0;36m<module>\u001B[0;34m\u001B[0m\n\u001B[1;32m     18\u001B[0m \u001B[38;5;28;01mimport\u001B[39;00m \u001B[38;5;21;01mnumpy\u001B[39;00m \u001B[38;5;28;01mas\u001B[39;00m \u001B[38;5;21;01mnp\u001B[39;00m\n\u001B[1;32m     20\u001B[0m \u001B[38;5;28;01mimport\u001B[39;00m \u001B[38;5;21;01mmatplotlib\u001B[39;00m \u001B[38;5;28;01mas\u001B[39;00m \u001B[38;5;21;01mmpl\u001B[39;00m\n\u001B[0;32m---> 21\u001B[0m \u001B[38;5;28;01mfrom\u001B[39;00m \u001B[38;5;21;01mmatplotlib\u001B[39;00m \u001B[38;5;28;01mimport\u001B[39;00m _api, collections, cm, colors, contour, ticker\n\u001B[1;32m     22\u001B[0m \u001B[38;5;28;01mimport\u001B[39;00m \u001B[38;5;21;01mmatplotlib\u001B[39;00m\u001B[38;5;21;01m.\u001B[39;00m\u001B[38;5;21;01martist\u001B[39;00m \u001B[38;5;28;01mas\u001B[39;00m \u001B[38;5;21;01mmartist\u001B[39;00m\n\u001B[1;32m     23\u001B[0m \u001B[38;5;28;01mimport\u001B[39;00m \u001B[38;5;21;01mmatplotlib\u001B[39;00m\u001B[38;5;21;01m.\u001B[39;00m\u001B[38;5;21;01mpatches\u001B[39;00m \u001B[38;5;28;01mas\u001B[39;00m \u001B[38;5;21;01mmpatches\u001B[39;00m\n",
      "File \u001B[0;32m~/.conda/envs/Desktop/lib/python3.10/site-packages/matplotlib/collections.py:20\u001B[0m, in \u001B[0;36m<module>\u001B[0;34m\u001B[0m\n\u001B[1;32m     17\u001B[0m \u001B[38;5;28;01mimport\u001B[39;00m \u001B[38;5;21;01mnumpy\u001B[39;00m \u001B[38;5;28;01mas\u001B[39;00m \u001B[38;5;21;01mnp\u001B[39;00m\n\u001B[1;32m     19\u001B[0m \u001B[38;5;28;01mimport\u001B[39;00m \u001B[38;5;21;01mmatplotlib\u001B[39;00m \u001B[38;5;28;01mas\u001B[39;00m \u001B[38;5;21;01mmpl\u001B[39;00m\n\u001B[0;32m---> 20\u001B[0m \u001B[38;5;28;01mfrom\u001B[39;00m \u001B[38;5;21;01m.\u001B[39;00m \u001B[38;5;28;01mimport\u001B[39;00m (_api, _path, artist, cbook, cm, colors \u001B[38;5;28;01mas\u001B[39;00m mcolors, docstring,\n\u001B[1;32m     21\u001B[0m                hatch \u001B[38;5;28;01mas\u001B[39;00m mhatch, lines \u001B[38;5;28;01mas\u001B[39;00m mlines, path \u001B[38;5;28;01mas\u001B[39;00m mpath, transforms)\n\u001B[1;32m     22\u001B[0m \u001B[38;5;28;01mfrom\u001B[39;00m \u001B[38;5;21;01m.\u001B[39;00m\u001B[38;5;21;01m_enums\u001B[39;00m \u001B[38;5;28;01mimport\u001B[39;00m JoinStyle, CapStyle\n\u001B[1;32m     25\u001B[0m \u001B[38;5;66;03m# \"color\" is excluded; it is a compound setter, and its docstring differs\u001B[39;00m\n\u001B[1;32m     26\u001B[0m \u001B[38;5;66;03m# in LineCollection.\u001B[39;00m\n",
      "File \u001B[0;32m~/.conda/envs/Desktop/lib/python3.10/site-packages/matplotlib/artist.py:15\u001B[0m, in \u001B[0;36m<module>\u001B[0;34m\u001B[0m\n\u001B[1;32m     13\u001B[0m \u001B[38;5;28;01mimport\u001B[39;00m \u001B[38;5;21;01mmatplotlib\u001B[39;00m \u001B[38;5;28;01mas\u001B[39;00m \u001B[38;5;21;01mmpl\u001B[39;00m\n\u001B[1;32m     14\u001B[0m \u001B[38;5;28;01mfrom\u001B[39;00m \u001B[38;5;21;01m.\u001B[39;00m \u001B[38;5;28;01mimport\u001B[39;00m _api, cbook\n\u001B[0;32m---> 15\u001B[0m \u001B[38;5;28;01mfrom\u001B[39;00m \u001B[38;5;21;01m.\u001B[39;00m\u001B[38;5;21;01mcm\u001B[39;00m \u001B[38;5;28;01mimport\u001B[39;00m ScalarMappable\n\u001B[1;32m     16\u001B[0m \u001B[38;5;28;01mfrom\u001B[39;00m \u001B[38;5;21;01m.\u001B[39;00m\u001B[38;5;21;01mpath\u001B[39;00m \u001B[38;5;28;01mimport\u001B[39;00m Path\n\u001B[1;32m     17\u001B[0m \u001B[38;5;28;01mfrom\u001B[39;00m \u001B[38;5;21;01m.\u001B[39;00m\u001B[38;5;21;01mtransforms\u001B[39;00m \u001B[38;5;28;01mimport\u001B[39;00m (Bbox, IdentityTransform, Transform, TransformedBbox,\n\u001B[1;32m     18\u001B[0m                          TransformedPatchPath, TransformedPath)\n",
      "File \u001B[0;32m~/.conda/envs/Desktop/lib/python3.10/site-packages/matplotlib/cm.py:36\u001B[0m, in \u001B[0;36m<module>\u001B[0;34m\u001B[0m\n\u001B[1;32m     29\u001B[0m \u001B[38;5;129m@_api\u001B[39m\u001B[38;5;241m.\u001B[39mcaching_module_getattr  \u001B[38;5;66;03m# module-level deprecations\u001B[39;00m\n\u001B[1;32m     30\u001B[0m \u001B[38;5;28;01mclass\u001B[39;00m \u001B[38;5;21;01m__getattr__\u001B[39;00m:\n\u001B[1;32m     31\u001B[0m     LUTSIZE \u001B[38;5;241m=\u001B[39m _api\u001B[38;5;241m.\u001B[39mdeprecated(\n\u001B[1;32m     32\u001B[0m         \u001B[38;5;124m\"\u001B[39m\u001B[38;5;124m3.5\u001B[39m\u001B[38;5;124m\"\u001B[39m, obj_type\u001B[38;5;241m=\u001B[39m\u001B[38;5;124m\"\u001B[39m\u001B[38;5;124m\"\u001B[39m, alternative\u001B[38;5;241m=\u001B[39m\u001B[38;5;124m\"\u001B[39m\u001B[38;5;124mrcParams[\u001B[39m\u001B[38;5;124m'\u001B[39m\u001B[38;5;124mimage.lut\u001B[39m\u001B[38;5;124m'\u001B[39m\u001B[38;5;124m]\u001B[39m\u001B[38;5;124m\"\u001B[39m)(\n\u001B[1;32m     33\u001B[0m             \u001B[38;5;28mproperty\u001B[39m(\u001B[38;5;28;01mlambda\u001B[39;00m \u001B[38;5;28mself\u001B[39m: _LUTSIZE))\n\u001B[0;32m---> 36\u001B[0m _LUTSIZE \u001B[38;5;241m=\u001B[39m \u001B[43mmpl\u001B[49m\u001B[38;5;241;43m.\u001B[39;49m\u001B[43mrcParams\u001B[49m[\u001B[38;5;124m'\u001B[39m\u001B[38;5;124mimage.lut\u001B[39m\u001B[38;5;124m'\u001B[39m]\n\u001B[1;32m     39\u001B[0m \u001B[38;5;28;01mdef\u001B[39;00m \u001B[38;5;21m_gen_cmap_registry\u001B[39m():\n\u001B[1;32m     40\u001B[0m     \u001B[38;5;124;03m\"\"\"\u001B[39;00m\n\u001B[1;32m     41\u001B[0m \u001B[38;5;124;03m    Generate a dict mapping standard colormap names to standard colormaps, as\u001B[39;00m\n\u001B[1;32m     42\u001B[0m \u001B[38;5;124;03m    well as the reversed colormaps.\u001B[39;00m\n\u001B[1;32m     43\u001B[0m \u001B[38;5;124;03m    \"\"\"\u001B[39;00m\n",
      "\u001B[0;31mAttributeError\u001B[0m: module 'matplotlib' has no attribute 'rcParams'"
     ]
    }
   ],
   "source": [
    "#Importing Important Libraries.\n",
    "\n",
    "import pandas as pd\n",
    "import numpy as np\n",
    "import seaborn as sns\n",
    "import matplotlib.pyplot as plt\n",
    "import matplotlib.ticker as mtick\n",
    "import matplotlib.gridspec as grid_spec\n",
    "import seaborn as sns\n"
   ]
  },
  {
   "cell_type": "markdown",
   "id": "573cd158",
   "metadata": {},
   "source": [
    "#### 1.1 - Business/situation objectives must be logical, and in line with data mining goals and the business success criteria. Must be conveyed in a clear manner.\n",
    "\n",
    "#### 1.2 - Situation assessment must effectively describe the resources, requirements, assumptions, constraints, risks and contingencies of the project.\n",
    "\n",
    "#### 1.3 - Data mining goals must be achievable and closely aligned with the business objectives/success criteria. Must be conveyed in a clear manner.\n",
    "\n",
    "#### 向Envision2030 Goal 3: Good Health and Well-being靠拢，本文主要运用世界幸福指数报告数据，预测幸福指数，结果显示医疗、教育支出高的国家，幸福指数越高。提供了针对国家对Goal 3的参考意义。"
   ]
  },
  {
   "cell_type": "markdown",
   "id": "c13d5a77",
   "metadata": {},
   "source": [
    "#### 1.4 - The project plan must address how each phase of the project will be carried out for the current iteration. A day-to-day timeline must be proposed within the project plan.\n",
    "\n",
    "#### Timeline建议与之前一致"
   ]
  },
  {
   "cell_type": "code",
   "execution_count": null,
   "id": "7b980b45",
   "metadata": {},
   "outputs": [],
   "source": [
    "# Must be included at the beginning of each new notebook. Remember to change the app name.\n",
    "import findspark\n",
    "findspark.init('F:\\spark-3.3.0-bin-hadoop2')\n",
    "import pyspark\n",
    "from pyspark.sql import SparkSession\n",
    "spark = SparkSession.builder.appName('linear_regression_adv').getOrCreate()"
   ]
  },
  {
   "cell_type": "markdown",
   "id": "504beafd",
   "metadata": {},
   "source": [
    "### Import Datasets"
   ]
  },
  {
   "cell_type": "markdown",
   "id": "4f9c423c",
   "metadata": {},
   "source": [
    "#### 2.1 - Collect initial data and describe where the data was collected from, how it was collected and any issues encountered during collection.\n",
    "\n",
    "#### Collect from Kaggle https://www.kaggle.com/datasets/ajaypalsinghlo/world-happiness-report-2021"
   ]
  },
  {
   "cell_type": "code",
   "execution_count": null,
   "id": "801752df",
   "metadata": {},
   "outputs": [],
   "source": [
    "data = spark.read.csv(\"world-happiness-report-2021.csv\",inferSchema=True,header=True)"
   ]
  },
  {
   "cell_type": "code",
   "execution_count": null,
   "id": "e4a3522a",
   "metadata": {},
   "outputs": [],
   "source": [
    "data.printSchema()"
   ]
  },
  {
   "cell_type": "code",
   "execution_count": null,
   "id": "be07c136",
   "metadata": {},
   "outputs": [],
   "source": [
    "data.head()"
   ]
  },
  {
   "cell_type": "code",
   "execution_count": null,
   "id": "8131fb69",
   "metadata": {},
   "outputs": [],
   "source": [
    "for item in data.head():\n",
    "    print(item)"
   ]
  },
  {
   "cell_type": "code",
   "execution_count": null,
   "id": "32407933",
   "metadata": {},
   "outputs": [],
   "source": [
    "df = data.toPandas()"
   ]
  },
  {
   "cell_type": "code",
   "execution_count": null,
   "id": "ba28ee14",
   "metadata": {},
   "outputs": [],
   "source": [
    "#df=pd.read_csv('world-happiness-report-2021.csv')\n",
    "df.head()\n",
    "original=df.copy()\n",
    "def highlight_max(s):    \n",
    "    is_max = s == s.max()\n",
    "    return ['background-color: limegreen' if v else '' for v in is_max]\n",
    "\n",
    "df.style.apply(highlight_max, subset=['Ladder score','Logged GDP per capita','Social support','Healthy life expectancy','Freedom to make life choices','Generosity','Perceptions of corruption'])"
   ]
  },
  {
   "cell_type": "markdown",
   "id": "3ed982af",
   "metadata": {},
   "source": [
    "### Checking out the shape of the dataset"
   ]
  },
  {
   "cell_type": "code",
   "execution_count": null,
   "id": "ba12f128",
   "metadata": {},
   "outputs": [],
   "source": [
    "# We select only the relevant columns\n",
    "\n",
    "cols=['Country name', 'Regional indicator', 'Ladder score','Logged GDP per capita', 'Social support', \n",
    "      'Healthy life expectancy', 'Freedom to make life choices', 'Generosity',\n",
    "       'Perceptions of corruption']\n",
    "\n",
    "\n",
    "df=df[cols]\n",
    "df.shape"
   ]
  },
  {
   "cell_type": "markdown",
   "id": "0634a00f",
   "metadata": {},
   "source": [
    "#### 2.2 – Data description must describe the format, quantity, fields and surface-level features of the data."
   ]
  },
  {
   "cell_type": "code",
   "execution_count": null,
   "id": "3465eb74",
   "metadata": {},
   "outputs": [],
   "source": [
    "# Check the number of non-null values in the dataframe\n",
    "df.info()"
   ]
  },
  {
   "cell_type": "markdown",
   "id": "25db7f23",
   "metadata": {},
   "source": [
    "#### 2.3 - Data exploration must assist readers in understanding the data through the usage of strong visualisations (visualising the raw data). Must be communicated in a clear manner and explicitly linked to the rest of the steps."
   ]
  },
  {
   "cell_type": "markdown",
   "id": "2c706322",
   "metadata": {},
   "source": [
    "#### 2.4 - Data quality must be verified by checking for errors, missing values, and data quality patterns explicitly"
   ]
  },
  {
   "cell_type": "code",
   "execution_count": null,
   "id": "ce4248e3",
   "metadata": {},
   "outputs": [],
   "source": [
    "# Check Null values\n",
    "happy_df = df\n",
    "happy_df.isnull().sum()"
   ]
  },
  {
   "cell_type": "code",
   "execution_count": null,
   "id": "828d6e27",
   "metadata": {},
   "outputs": [],
   "source": [
    "# Obtain the Statistical summary of the dataframe\n",
    "happy_df.describe()"
   ]
  },
  {
   "cell_type": "markdown",
   "id": "84eb9db7",
   "metadata": {},
   "source": [
    "#### 3. Data Preparation As a general guide: 3.1 - Data must be selected effectively. Goals, data quality, technical constraints, among other factors should be explicitly considered. 3.2 - To clean the data, issues must be made explicit, then explicitly resolved. 3.3 - Data must be appropriately constructed through the creation of new features/variables, and/or data repositories/tables. 3.4 - Integration must take place. This includes effectively merging data from various sources. 3.5 - Reformatting includes changing the formats of different data sources and trimming content, among other steps specific to the data."
   ]
  },
  {
   "cell_type": "code",
   "execution_count": null,
   "id": "6a076002",
   "metadata": {},
   "outputs": [],
   "source": [
    "#Rename Columns for Interpretability\n",
    "\n",
    "df = happy_df\n",
    "df.rename({'Country name':'country','Regional indicator':'region',\n",
    "          'Logged GDP per capita':'GDP_per_capita','Social support':'social_score',\n",
    "          'Healthy life expectancy':'life_expectancy',\n",
    "           'Freedom to make life choices':'freedom_choice','Generosity':'generosity',\n",
    "          'Perceptions of corruption':'corruption_score',\n",
    "          'Ladder score':'happiness_score'},axis=1,inplace=True)"
   ]
  },
  {
   "cell_type": "code",
   "execution_count": null,
   "id": "1033a697",
   "metadata": {},
   "outputs": [],
   "source": [
    "# check the number of duplicated entries in the dataframe\n",
    "# since there are no duplicates, no further action is required\n",
    "df.duplicated().sum()"
   ]
  },
  {
   "cell_type": "code",
   "execution_count": null,
   "id": "fb7c6582",
   "metadata": {},
   "outputs": [],
   "source": [
    "#Check how many countries\n",
    "df['region'].unique()"
   ]
  },
  {
   "cell_type": "markdown",
   "id": "06582c15",
   "metadata": {},
   "source": [
    "### Plot Relation between happiness and GDP"
   ]
  },
  {
   "cell_type": "code",
   "execution_count": null,
   "id": "d312fb7c",
   "metadata": {},
   "outputs": [],
   "source": [
    "plt.figure(figsize=(12,6))\n",
    "sns.scatterplot(x='GDP_per_capita',y='happiness_score',hue='region',s=85,data=df)\n",
    "plt.legend(loc='best',fontsize=10)\n",
    "plt.title('GDP per capita on Happiness',fontsize=20)"
   ]
  },
  {
   "cell_type": "markdown",
   "id": "2b2f22e7",
   "metadata": {},
   "source": [
    "### We can see the happiness have positive relationship with GDP"
   ]
  },
  {
   "cell_type": "markdown",
   "id": "c3e04cd2",
   "metadata": {},
   "source": [
    "### Relation between happiness and life_expectancy"
   ]
  },
  {
   "cell_type": "code",
   "execution_count": null,
   "id": "e4a3b942",
   "metadata": {},
   "outputs": [],
   "source": [
    "plt.figure(figsize=(12,6))\n",
    "sns.scatterplot(x='life_expectancy',y='happiness_score',hue='region',s=85,data=df)\n",
    "plt.legend(loc='best',fontsize=10)\n",
    "plt.title('Life Expectancy on Happiness',fontsize=20)"
   ]
  },
  {
   "cell_type": "markdown",
   "id": "efcf1909",
   "metadata": {},
   "source": [
    "### Relation between freedom of Choice and GDP"
   ]
  },
  {
   "cell_type": "code",
   "execution_count": null,
   "id": "c967cf51",
   "metadata": {},
   "outputs": [],
   "source": [
    "plt.figure(figsize=(12,6))\n",
    "sns.scatterplot(x='freedom_choice',y='happiness_score',hue='region',s=80,data=df)\n",
    "plt.legend(loc='best',fontsize=10)\n",
    "plt.title('Dependence of freedom of Choice on Happiness',fontsize=20)"
   ]
  },
  {
   "cell_type": "markdown",
   "id": "5c0d0664",
   "metadata": {},
   "source": [
    "### Correlation"
   ]
  },
  {
   "cell_type": "code",
   "execution_count": null,
   "id": "45c4743d",
   "metadata": {},
   "outputs": [],
   "source": [
    "plt.figure(figsize=(6,5))\n",
    "sns.heatmap(df.corr(),cmap='coolwarm',annot=True)"
   ]
  },
  {
   "cell_type": "markdown",
   "id": "3f5548d9",
   "metadata": {},
   "source": [
    "### We can see that the life expectancy is highly correlated to the GDP and social score."
   ]
  },
  {
   "cell_type": "markdown",
   "id": "e6182f14",
   "metadata": {},
   "source": [
    "# Regression\n"
   ]
  },
  {
   "cell_type": "code",
   "execution_count": null,
   "id": "beaab5e8",
   "metadata": {},
   "outputs": [],
   "source": [
    "import seaborn as seabornInstance\n",
    "# TRAIN TEST SPLIT\n",
    "from sklearn.model_selection import train_test_split\n",
    "# STATS\n",
    "from sklearn import datasets, metrics\n",
    "from sklearn.metrics import mean_squared_error\n",
    "from sklearn.linear_model import LinearRegression\n",
    "from sklearn.model_selection import cross_val_score\n",
    "from sklearn.ensemble import BaggingRegressor\n"
   ]
  },
  {
   "cell_type": "markdown",
   "id": "aeea970c",
   "metadata": {},
   "source": [
    "#### 4.2 - The data must be projected through the use of statistical transformations (such as taking the log of a distribution)."
   ]
  },
  {
   "cell_type": "code",
   "execution_count": null,
   "id": "8e1b7643",
   "metadata": {},
   "outputs": [],
   "source": [
    "df_2021 = happy_df\n",
    "df_2021 = df_2021.drop(['region'],axis=1)"
   ]
  },
  {
   "cell_type": "code",
   "execution_count": null,
   "id": "3f55a346",
   "metadata": {},
   "outputs": [],
   "source": [
    "df_2021['Year'] = 2021 #add year column\n",
    "df_2021.head()"
   ]
  },
  {
   "cell_type": "code",
   "execution_count": null,
   "id": "c932c38a",
   "metadata": {},
   "outputs": [],
   "source": [
    "df_all=pd.read_csv('world-happiness-report.csv')\n",
    "#df2 = df2.groupby(['Country name']).mean()\n",
    "df_all"
   ]
  },
  {
   "cell_type": "code",
   "execution_count": null,
   "id": "42f416b0",
   "metadata": {},
   "outputs": [],
   "source": []
  },
  {
   "cell_type": "code",
   "execution_count": null,
   "outputs": [],
   "source": [],
   "metadata": {
    "collapsed": false
   }
  },
  {
   "cell_type": "code",
   "execution_count": null,
   "id": "a1c8c17b",
   "metadata": {},
   "outputs": [],
   "source": [
    "df_all.drop(['Positive affect','Negative affect'],axis=1,inplace = True)"
   ]
  },
  {
   "cell_type": "code",
   "execution_count": null,
   "id": "b5367487",
   "metadata": {},
   "outputs": [],
   "source": [
    "# We select only the relevant columns\n",
    "\n",
    "df_all.rename({'Country name':'country','year':'year','Regional indicator':'region',\n",
    "          'Log GDP per capita':'GDP_per_capita','Social support':'social_score',\n",
    "          'Healthy life expectancy at birth':'life_expectancy',\n",
    "           'Freedom to make life choices':'freedom_choice','Generosity':'generosity',\n",
    "          'Perceptions of corruption':'corruption_score',\n",
    "          'Life Ladder':'happiness_score'},axis=1,inplace=True)\n",
    "\n",
    "df_all.isnull().sum()"
   ]
  },
  {
   "cell_type": "code",
   "execution_count": null,
   "id": "ac4a151d",
   "metadata": {},
   "outputs": [],
   "source": [
    "df_all = df_all.dropna(axis = 0)"
   ]
  },
  {
   "cell_type": "code",
   "execution_count": null,
   "id": "d01fb70c",
   "metadata": {},
   "outputs": [],
   "source": [
    "df_all.isnull().sum()\n",
    "df_all"
   ]
  },
  {
   "cell_type": "code",
   "execution_count": null,
   "id": "822b9d90",
   "metadata": {},
   "outputs": [],
   "source": [
    "def PlotScore(y_train, y_train_pred, y_test, y_test_pred):\n",
    "  '''\n",
    "  Plot visual of acutal and predicted for train & test data\n",
    "  '''\n",
    "  plt.figure(figsize = [13.66, 6])\n",
    "  plt.subplot(1, 2, 1)\n",
    "  sns.lineplot(x = y_train, y = y_train_pred, marker = 'o')\n",
    "  plt.xlabel('Actual')\n",
    "  plt.ylabel('Predicted')\n",
    "  plt.title('For Train Data')\n",
    "\n",
    "  plt.subplot(1, 2, 2)\n",
    "  sns.lineplot(x = y_test, y = y_test_pred, marker = 'o')\n",
    "  plt.xlabel('Actual')\n",
    "  plt.ylabel('Predicted')\n",
    "  plt.title('For Test Data')\n",
    "  plt.show()"
   ]
  },
  {
   "cell_type": "markdown",
   "id": "d51baba8",
   "metadata": {},
   "source": [
    "#### 5.1 - Match and discuss DM methods within the context of the DM objectives."
   ]
  },
  {
   "cell_type": "markdown",
   "id": "600645f8",
   "metadata": {},
   "source": [
    "#### 5.2 - Select the appropriate DM method(s) in a logical manner. The selected DM method must be in line with the data mining goal/success criteria.\n",
    "\n",
    "#### Choose Linear Regression"
   ]
  },
  {
   "cell_type": "markdown",
   "id": "2fd9311e",
   "metadata": {},
   "source": [
    "#### Single Linear Regression for 2021 datasets"
   ]
  },
  {
   "cell_type": "code",
   "execution_count": null,
   "id": "492586ce",
   "metadata": {},
   "outputs": [],
   "source": [
    "evaluation = pd.DataFrame({'Model':[],\n",
    "                          'Dataset': [],\n",
    "                          'Root Mean Squared Error (RMSE)': [],\n",
    "                          'R-squared (training)': [],\n",
    "                          'R-squared (test)':[],\n",
    "                           '5-Fold Cross Validation(RMSE)':[]\n",
    "                          })"
   ]
  },
  {
   "cell_type": "code",
   "execution_count": null,
   "id": "bb782462",
   "metadata": {},
   "outputs": [],
   "source": [
    "df_2021.columns"
   ]
  },
  {
   "cell_type": "code",
   "execution_count": null,
   "id": "d495e02c",
   "metadata": {},
   "outputs": [],
   "source": [
    "train_data, test_data = train_test_split(df_2021, train_size = 0.8, random_state = 128)\n",
    "\n",
    "lr = LinearRegression()\n",
    "X_train = np.array(train_data['GDP_per_capita'],\n",
    "                   dtype = pd.Series).reshape(-1,1)\n",
    "y_train = np.array(train_data['happiness_score'], dtype = pd.Series)\n",
    "lr.fit(X_train, y_train)\n",
    "\n",
    "X_test = np.array(test_data['GDP_per_capita'], \n",
    "                    dtype = pd.Series).reshape(-1,1)\n",
    "y_test = np.array(test_data['happiness_score'], dtype = pd.Series)\n",
    "\n",
    "pred = lr.predict(X_test)\n",
    "#ROOT MEAN SQUARED ERROR\n",
    "rmsesm = float(format(np.sqrt(metrics.mean_squared_error(y_test,pred)),'.3f'))\n",
    "#R-SQUARED (TRAINING)\n",
    "rtrsm = float(format(lr.score(X_train, y_train),'.3f'))\n",
    "#R-SQUARED (TEST)\n",
    "rtesm = float(format(lr.score(X_test, y_test),'.3f'))\n",
    "cv = abs(float(format(cross_val_score(lr,df_2021[['GDP_per_capita']],df_2021['happiness_score'],cv=5,scoring='neg_mean_squared_error').mean(),'.3f')))\n",
    "\n",
    "print (\"Average Score for Test Data: {:.3f}\".format(y_test.mean()))\n",
    "print('Intercept: {}'.format(lr.intercept_))\n",
    "print('Coefficient: {}'.format(lr.coef_))\n",
    "print('Happiness score = ',np.round(lr.intercept_,4),\n",
    "      '+',np.round(lr.coef_,4),'* GDP')\n",
    "\n",
    "r = evaluation.shape[0]\n",
    "evaluation.loc[r] = ['Simple Linear Regression','2021 datasets',rmsesm,rtrsm,rtesm,cv]\n",
    "evaluation"
   ]
  },
  {
   "cell_type": "markdown",
   "id": "752948fa",
   "metadata": {},
   "source": [
    "#### 6.1 Conduct exploratory analysis of DM algorithms within the context of the DM objectives. Then, discuss the analysis.\n",
    "#### 6.2 - Select algorithm(s) in a logical manner based on the exploratory analysis and discussion.\n",
    "#### 6.3 - Model(s) must be selected/built, and the appropriate algorithm/model parameter(s) must be selected."
   ]
  },
  {
   "cell_type": "markdown",
   "id": "4d092adc",
   "metadata": {},
   "source": [
    "#### GDP and happiness shows positive relationship"
   ]
  },
  {
   "cell_type": "code",
   "execution_count": null,
   "id": "e4f2d686",
   "metadata": {},
   "outputs": [],
   "source": [
    "y_train_pred = lr.predict(X_train)\n",
    "y_test_pred = lr.predict(X_test)\n",
    "PlotScore(y_train, y_train_pred, y_test, y_test_pred)"
   ]
  },
  {
   "cell_type": "markdown",
   "id": "80b60ee4",
   "metadata": {},
   "source": [
    "# Single Linear Regression for Large datasets"
   ]
  },
  {
   "cell_type": "code",
   "execution_count": null,
   "id": "79195dd6",
   "metadata": {},
   "outputs": [],
   "source": [
    "train_data, test_data = train_test_split(df_all, train_size = 0.8, random_state = 128)\n",
    "\n",
    "lr = LinearRegression()\n",
    "X_train = np.array(train_data['GDP_per_capita'],\n",
    "                   dtype = pd.Series).reshape(-1,1)\n",
    "y_train = np.array(train_data['happiness_score'], dtype = pd.Series)\n",
    "lr.fit(X_train, y_train)\n",
    "\n",
    "X_test = np.array(test_data['GDP_per_capita'], \n",
    "                    dtype = pd.Series).reshape(-1,1)\n",
    "y_test = np.array(test_data['happiness_score'], dtype = pd.Series)\n",
    "\n",
    "pred = lr.predict(X_test)\n",
    "#ROOT MEAN SQUARED ERROR\n",
    "rmsesm = float(format(np.sqrt(metrics.mean_squared_error(y_test,pred)),'.3f'))\n",
    "#R-SQUARED (TRAINING)\n",
    "rtrsm = float(format(lr.score(X_train, y_train),'.3f'))\n",
    "#R-SQUARED (TEST)\n",
    "rtesm = float(format(lr.score(X_test, y_test),'.3f'))\n",
    "cv = abs(float(format(cross_val_score(lr,df_all[['GDP_per_capita']],df_all['happiness_score'],cv=5,scoring='neg_mean_squared_error').mean(),'.3f')))\n",
    "\n",
    "print (\"Average Score for Test Data: {:.3f}\".format(y_test.mean()))\n",
    "print('Intercept: {}'.format(lr.intercept_))\n",
    "print('Coefficient: {}'.format(lr.coef_))\n",
    "print('Happiness score = ',np.round(lr.intercept_,4),\n",
    "      '+',np.round(lr.coef_,4),'* GDP')\n",
    "\n",
    "r = evaluation.shape[0]\n",
    "evaluation.loc[r] = ['Simple Linear Regression','Large Datasets',rmsesm,rtrsm,rtesm,cv]\n",
    "evaluation"
   ]
  },
  {
   "cell_type": "code",
   "execution_count": null,
   "id": "7c3e98e6",
   "metadata": {},
   "outputs": [],
   "source": [
    "y_train_pred = lr.predict(X_train)\n",
    "y_test_pred = lr.predict(X_test)\n",
    "PlotScore(y_train, y_train_pred, y_test, y_test_pred)"
   ]
  },
  {
   "cell_type": "markdown",
   "id": "57858380",
   "metadata": {},
   "source": [
    "# Mutiple Linear Regression for Large datasets"
   ]
  },
  {
   "cell_type": "code",
   "execution_count": null,
   "id": "988b4bf8",
   "metadata": {},
   "outputs": [],
   "source": [
    "df_all.columns"
   ]
  },
  {
   "cell_type": "code",
   "execution_count": null,
   "id": "ac9a305a",
   "metadata": {},
   "outputs": [],
   "source": [
    "# MULTIPLE LINEAR REGRESSION 1\n",
    "train_data_dm,test_data_dm = train_test_split(df_all,train_size = 0.8,random_state=128)\n",
    "independent_var = ['GDP_per_capita', 'social_score',\n",
    "       'life_expectancy', 'freedom_choice', 'generosity', 'corruption_score']\n",
    "multi_Lr = LinearRegression()\n",
    "\n",
    "\n",
    "X_train = np.array(train_data_dm[independent_var],\n",
    "                   dtype = pd.Series).reshape(-1,6)\n",
    "\n",
    "y_train = np.array(train_data_dm['happiness_score'], dtype = pd.Series)\n",
    "\n",
    "multi_Lr.fit(train_data_dm[independent_var],train_data_dm['happiness_score'])\n",
    "\n",
    "print('Intercept: {}'.format(multi_Lr.intercept_))\n",
    "print('Coefficients: {}'.format(multi_Lr.coef_))\n",
    "print('Happiness score = ',np.round(multi_Lr.intercept_,4),\n",
    "      '+',np.round(multi_Lr.coef_[0],4),'∗ GDP_per_capita',\n",
    "      '+',np.round(multi_Lr.coef_[1],4),'* social_score', \n",
    "      '+',np.round(multi_Lr.coef_[2],4),'* life_expectancy',\n",
    "      '+',np.round(multi_Lr.coef_[3],4),'* freedom_choice',\n",
    "       '+',np.round(multi_Lr.coef_[4],4),'* generosity',\n",
    "      '+',np.round(multi_Lr.coef_[5],4),'* corruption_score')\n",
    "\n",
    "X_test = np.array(test_data_dm[independent_var], \n",
    "                    dtype = pd.Series).reshape(-1,6)\n",
    "y_test = np.array(test_data_dm['happiness_score'], dtype = pd.Series)\n",
    "\n",
    "\n",
    "\n",
    "\n",
    "pred = multi_Lr.predict(X_test)\n",
    "rmsecm = float(format(np.sqrt(metrics.mean_squared_error(\n",
    "                       test_data_dm['happiness_score'],pred)),'.7f'))\n",
    "rtrcm = float(format(multi_Lr.score(\n",
    "                        train_data_dm[independent_var],\n",
    "                        train_data_dm['happiness_score']),'.3f'))\n",
    "rtecm = float(format(multi_Lr.score(\n",
    "                        test_data_dm[independent_var],\n",
    "                        test_data_dm['happiness_score']),'.3f'))\n",
    "cv = abs(float(format(cross_val_score(multi_Lr,df_all[independent_var],df_all['happiness_score'],cv=5,scoring='neg_mean_squared_error').mean(),'.3f')))\n",
    "r = evaluation.shape[0]\n",
    "evaluation.loc[r] = ['Multiple Linear Regression-1','Large Datasets',rmsesm,rtrsm,rtesm,cv]\n",
    "evaluation.sort_values(by = '5-Fold Cross Validation(RMSE)', ascending=False)"
   ]
  },
  {
   "cell_type": "code",
   "execution_count": null,
   "id": "9d4678b9",
   "metadata": {},
   "outputs": [],
   "source": [
    "y_train_pred = multi_Lr.predict(X_train)\n",
    "y_test_pred = multi_Lr.predict(X_test)\n",
    "PlotScore(y_train, y_train_pred, y_test, y_test_pred)"
   ]
  },
  {
   "cell_type": "markdown",
   "id": "d6b44302",
   "metadata": {},
   "source": [
    "#### We can see the life_expectancy(health care) plays important role for happiness"
   ]
  },
  {
   "cell_type": "code",
   "execution_count": null,
   "id": "6d47eeb2",
   "metadata": {},
   "outputs": [],
   "source": []
  }
 ],
 "metadata": {
  "kernelspec": {
   "display_name": "Python 3 (ipykernel)",
   "language": "python",
   "name": "python3"
  },
  "language_info": {
   "codemirror_mode": {
    "name": "ipython",
    "version": 3
   },
   "file_extension": ".py",
   "mimetype": "text/x-python",
   "name": "python",
   "nbconvert_exporter": "python",
   "pygments_lexer": "ipython3",
   "version": "3.9.7"
  }
 },
 "nbformat": 4,
 "nbformat_minor": 5
}
